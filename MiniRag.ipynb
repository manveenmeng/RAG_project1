{
 "cells": [
  {
   "cell_type": "markdown",
   "id": "dfe37963-1af6-44fc-a841-8e462443f5e6",
   "metadata": {},
   "source": [
    "## Expert Knowledge Worker\n",
    "\n",
    "### A question answering agent that is an expert knowledge worker\n",
    "### To be used by employees of Insurellm, an Insurance Tech company\n",
    "### The agent needs to be accurate and the solution should be low cost.\n",
    "\n",
    "This project will use RAG (Retrieval Augmented Generation) to ensure our question/answering assistant has high accuracy."
   ]
  },
  {
   "cell_type": "code",
   "execution_count": 1,
   "id": "ba2779af-84ef-4227-9e9e-6eaf0df87e77",
   "metadata": {},
   "outputs": [],
   "source": [
    "# imports\n",
    "\n",
    "import os\n",
    "import glob\n",
    "from dotenv import load_dotenv\n",
    "import gradio as gr"
   ]
  },
  {
   "cell_type": "code",
   "execution_count": 2,
   "id": "802137aa-8a74-45e0-a487-d1974927d7ca",
   "metadata": {},
   "outputs": [],
   "source": [
    "# imports for langchain\n",
    "\n",
    "from langchain.document_loaders import DirectoryLoader, TextLoader\n",
    "from langchain.text_splitter import CharacterTextSplitter"
   ]
  },
  {
   "cell_type": "code",
   "execution_count": 3,
   "id": "58c85082-e417-4708-9efe-81a5d55d1424",
   "metadata": {},
   "outputs": [],
   "source": [
    "# price is a factor for our company, so we're going to use a low cost model\n",
    "\n",
    "MODEL = \"gpt-4o-mini\"\n",
    "db_name = \"vector_db\""
   ]
  },
  {
   "cell_type": "code",
   "execution_count": 4,
   "id": "ee78efcb-60fe-449e-a944-40bab26261af",
   "metadata": {},
   "outputs": [],
   "source": [
    "# Load environment variables in a file called .env\n",
    "\n",
    "load_dotenv()\n",
    "os.environ['OPENAI_API_KEY'] = os.getenv('OPENAI_API_KEY', 'your-key-if-not-using-env')"
   ]
  },
  {
   "cell_type": "code",
   "execution_count": 16,
   "id": "730711a9-6ffe-4eee-8f48-d6cfb7314905",
   "metadata": {},
   "outputs": [],
   "source": [
    "# Read in documents using LangChain's loaders\n",
    "# Take everything in all the sub-folders of our knowledgebase\n",
    "\n",
    "folders = glob.glob(\"knowledge-base/*\")\n",
    "\n",
    "# With thanks to CG and Jon R, students on the course, for this fix needed for some users \n",
    "text_loader_kwargs = {'encoding': 'utf-8'}\n",
    "# If that doesn't work, some Windows users might need to uncomment the next line instead\n",
    "# text_loader_kwargs={'autodetect_encoding': True}\n",
    "\n",
    "documents = []\n",
    "for folder in folders:\n",
    "    doc_type = os.path.basename(folder)\n",
    "    loader = DirectoryLoader(folder, glob=\"**/*.md\", loader_cls=TextLoader, loader_kwargs=text_loader_kwargs)\n",
    "    folder_docs = loader.load()\n",
    "    for doc in folder_docs:\n",
    "        doc.metadata[\"doc_type\"] = doc_type\n",
    "        documents.append(doc)"
   ]
  },
  {
   "cell_type": "code",
   "execution_count": 17,
   "id": "252f17e9-3529-4e81-996c-cfa9f08e75a8",
   "metadata": {},
   "outputs": [
    {
     "data": {
      "text/plain": [
       "17"
      ]
     },
     "execution_count": 17,
     "metadata": {},
     "output_type": "execute_result"
    }
   ],
   "source": [
    "len(documents)"
   ]
  },
  {
   "cell_type": "code",
   "execution_count": 18,
   "id": "7e8decb0-d9b0-4d51-8402-7a6174d22159",
   "metadata": {},
   "outputs": [
    {
     "data": {
      "text/plain": [
       "Document(metadata={'source': 'knowledge-base\\\\grade\\\\grade5.md', 'doc_type': 'grade'}, page_content='## Grade 5\\n\\n| Enrollment No. | First Name | Last Name | Age | Height (cm) | English | Math | Science | Art | French | Average | Grade | Extracurricular Activities |\\n|---|---|---|---|---|---|---|---|---|---|---|---|\\n| 1 | Aaron | Davis | 10 | 135 | 88 | 92 | 85 | 90 | 88 | 88.6 | A- | Soccer, Art Club |\\n| 2 | Brianna | Miller | 10 | 140 | 90 | 95 | 88 | 90 | 92 | 91 | A | Music, Chess Club |\\n| 3 | Caleb | Garcia | 10 | 133 | 82 | 88 | 80 | 92 | 80 | 84.4 | B+ | Dance, Swimming |\\n| 4 | Dylan | Wilson | 10 | 137 | 90 | 95 | 88 | 85 | 90 | 89.6 | A | Basketball, Drama |\\n| 5 | Emily | Anderson | 10 | 130 | 85 | 88 | 92 | 80 | 78 | 84.6 | B+ | Karate, Book Club |\\n| 6 | Finn | Thomas | 10 | 135 | 78 | 82 | 75 | 88 | 80 | 80.6 | B | Football, Music |\\n| 7 | Grace | Martinez | 10 | 133 | 92 | 95 | 90 | 85 | 90 | 90.4 | A | Soccer, Art Club |\\n| 8 | Hayden | Rodriguez | 10 | 130 | 88 | 90 | 85 | 92 | 80 | 87 | A- | Dance, Swimming |\\n| 9 | Isabella | Clark | 10 | 135 | 82 | 88 | 80 | 90 | 85 | 85 | A | Basketball, Drama |\\n| 10 | Jacob | Lewis | 10 | 140 | 90 | 95 | 88 | 85 | 90 | 89.6 | A | Karate, Book Club |\\n| 11 | Kylie | Hall | 10 | 133 | 78 | 82 | 75 | 88 | 80 | 80.6 | B | Football, Music |\\n| 12 | Logan | Lee | 10 | 135 | 92 | 95 | 90 | 85 | 90 | 90.4 | A | Soccer, Art Club |\\n| 13 | Madison | Walker | 10 | 133 | 88 | 90 | 85 | 92 | 80 | 87 | A- | Dance, Swimming |\\n| 14 | Noah | Wright | 10 | 130 | 82 | 88 | 80 | 90 | 85 | 85 | A | Basketball, Drama |\\n| 15 | Olivia | Green | 10 | 135 | 90 | 95 | 88 | 85 | 90 | 89.6 | A | Karate, Book Club |\\n| 16 | Parker | Adams | 10 | 133 | 78 | 82 | 75 | 88 | 80 | 80.6 | B | Football, Music |\\n| 17 | Sophia | Smith | 10 | 130 | 92 | 95 | 90 | 85 | 90 | 90.4 | A | Soccer, Art Club |\\n| 18 | Tyler | Jones | 10 | 135 | 88 | 90 | 85 | 92 | 80 | 87 | A- | Dance, Swimming |')"
      ]
     },
     "execution_count": 18,
     "metadata": {},
     "output_type": "execute_result"
    }
   ],
   "source": [
    "documents[4]"
   ]
  },
  {
   "cell_type": "code",
   "execution_count": 28,
   "id": "7310c9c8-03c1-4efc-a104-5e89aec6db1a",
   "metadata": {},
   "outputs": [],
   "source": [
    "text_splitter = CharacterTextSplitter(chunk_size=1000, chunk_overlap=200)\n",
    "chunks = text_splitter.split_documents(documents)"
   ]
  },
  {
   "cell_type": "code",
   "execution_count": 29,
   "id": "cd06e02f-6d9b-44cc-a43d-e1faa8acc7bb",
   "metadata": {},
   "outputs": [
    {
     "data": {
      "text/plain": [
       "25"
      ]
     },
     "execution_count": 29,
     "metadata": {},
     "output_type": "execute_result"
    }
   ],
   "source": [
    "len(chunks)"
   ]
  },
  {
   "cell_type": "code",
   "execution_count": 30,
   "id": "d2562754-9052-4aae-92c1-37236435ea06",
   "metadata": {},
   "outputs": [
    {
     "data": {
      "text/plain": [
       "Document(metadata={'source': 'knowledge-base\\\\grade\\\\grade4.md', 'doc_type': 'grade'}, page_content='## Grade 4')"
      ]
     },
     "execution_count": 30,
     "metadata": {},
     "output_type": "execute_result"
    }
   ],
   "source": [
    "chunks[6]"
   ]
  },
  {
   "cell_type": "code",
   "execution_count": 31,
   "id": "2c54b4b6-06da-463d-bee7-4dd456c2b887",
   "metadata": {},
   "outputs": [
    {
     "name": "stdout",
     "output_type": "stream",
     "text": [
      "Document types found: grade, staff\n"
     ]
    }
   ],
   "source": [
    "doc_types = set(chunk.metadata['doc_type'] for chunk in chunks)\n",
    "print(f\"Document types found: {', '.join(doc_types)}\")"
   ]
  },
  {
   "cell_type": "code",
   "execution_count": 35,
   "id": "128c73f7-f149-4904-a554-8140941fce0c",
   "metadata": {},
   "outputs": [
    {
     "name": "stdout",
     "output_type": "stream",
     "text": [
      "page_content='# Bayside Elementary School Staff Directory\n",
      "\n",
      "\n",
      "### Grade 1: Ms. Sarah Thompson\n",
      "**Resume:**\n",
      "- Bachelor of Elementary Education, University of Michigan\n",
      "- 8 years teaching experience\n",
      "- Specialization: Early Childhood Literacy\n",
      "- Certifications: Elementary Education K-6\n",
      "\n",
      "**Previous Year Performance Report:**\n",
      "- Student Reading Growth: 87% above district average\n",
      "- Classroom Engagement: Excellent\n",
      "- Parent Satisfaction Rating: 94%\n",
      "- Implemented innovative phonics program' metadata={'source': 'knowledge-base\\\\staff\\\\Sarah Thompson.md', 'doc_type': 'staff'}\n",
      "_________\n"
     ]
    }
   ],
   "source": [
    "for chunk in chunks:\n",
    "    if 'Sarah' in chunk.page_content:\n",
    "        print(chunk)\n",
    "        print(\"_________\")"
   ]
  },
  {
   "cell_type": "code",
   "execution_count": null,
   "id": "6965971c-fb97-482c-a497-4e81a0ac83df",
   "metadata": {},
   "outputs": [],
   "source": []
  }
 ],
 "metadata": {
  "kernelspec": {
   "display_name": "Python 3 (ipykernel)",
   "language": "python",
   "name": "python3"
  },
  "language_info": {
   "codemirror_mode": {
    "name": "ipython",
    "version": 3
   },
   "file_extension": ".py",
   "mimetype": "text/x-python",
   "name": "python",
   "nbconvert_exporter": "python",
   "pygments_lexer": "ipython3",
   "version": "3.11.10"
  }
 },
 "nbformat": 4,
 "nbformat_minor": 5
}
